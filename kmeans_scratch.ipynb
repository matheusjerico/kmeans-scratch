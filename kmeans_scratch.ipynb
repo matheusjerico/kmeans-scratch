{
  "nbformat": 4,
  "nbformat_minor": 0,
  "metadata": {
    "colab": {
      "name": "kmeans_scratch.ipynb",
      "provenance": []
    },
    "kernelspec": {
      "display_name": "Python 3",
      "language": "python",
      "name": "python3"
    },
    "language_info": {
      "codemirror_mode": {
        "name": "ipython",
        "version": 3
      },
      "file_extension": ".py",
      "mimetype": "text/x-python",
      "name": "python",
      "nbconvert_exporter": "python",
      "pygments_lexer": "ipython3",
      "version": "3.6.10"
    }
  },
  "cells": [
    {
      "cell_type": "markdown",
      "metadata": {
        "colab_type": "text",
        "id": "sZe1NjCrKqGh"
      },
      "source": [
        "# Tarefa 1: Aprendizado Não-Supervisionado"
      ]
    },
    {
      "cell_type": "markdown",
      "metadata": {
        "colab_type": "text",
        "id": "GOE3VAVlKqGi"
      },
      "source": [
        "**Autor**: Matheus Jericó Palhares <br>\n",
        "**LinkedIn**: https://linkedin.com/in/matheusjerico <br>\n",
        "**Github**: https://github.com/matheusjerico"
      ]
    },
    {
      "cell_type": "markdown",
      "metadata": {
        "colab_type": "text",
        "id": "JPMP7kU5KqGi"
      },
      "source": [
        "### 1) Implementar a função “fit_k_means(pontos, parada, max_iter)”, com K fixo e igual a 3. Retorne os centróides finais.\n",
        "\n",
        "**Variáveis**:\n",
        "- pontos: conjunto de pontos 2D (casos x mortes) que serão clusterizados\n",
        "- parada: valor da variação dos clusters que indicará o fim do treinamento, i.e., se distancia(centroide_antigo, centroide_novo) < parada então termine o treinamento\n",
        "- max_iter: quantidade máxima de vezes que o algoritmo deve ser repetido caso “parada” não seja alcançada\n"
      ]
    },
    {
      "cell_type": "markdown",
      "metadata": {
        "colab_type": "text",
        "id": "kOOo-EqIKqGj"
      },
      "source": [
        "O relatório será o notebook exportado para um arquivo HTML e deve conter:\n",
        "- Um scatter plot mostrando os centróides (com marcador x) e seus respectivos pontos (cada cluster deve estar em uma cor distinta)\n",
        "- Para cada cluster, também devem ser exibidas as distâncias médias entre os pontos e seu respectivo centróide final\n",
        "- Discorra sobre cada cluster: o que eles indicam?\n"
      ]
    },
    {
      "cell_type": "markdown",
      "metadata": {
        "colab_type": "text",
        "id": "jNdeyvaiKqGj"
      },
      "source": [
        "#### 1. Bibliotecas"
      ]
    },
    {
      "cell_type": "code",
      "metadata": {
        "colab_type": "code",
        "id": "0l-JdNhwKqGk",
        "colab": {}
      },
      "source": [
        "import numpy as np\n",
        "import matplotlib.pyplot as plt\n",
        "import pandas as pd\n",
        "import random as rd\n",
        "from copy import deepcopy"
      ],
      "execution_count": 0,
      "outputs": []
    },
    {
      "cell_type": "markdown",
      "metadata": {
        "colab_type": "text",
        "id": "exdZ9qPdKqGm"
      },
      "source": [
        "#### 2. Carregando dados"
      ]
    },
    {
      "cell_type": "code",
      "metadata": {
        "colab_type": "code",
        "id": "2fivjTmOKqGm",
        "outputId": "c33bb216-8265-45b3-ad2b-27887fba5d1c",
        "colab": {
          "base_uri": "https://localhost:8080/",
          "height": 204
        }
      },
      "source": [
        "dataset = pd.read_csv(\"./Dataset/base-covid-19-us.csv\")\n",
        "dataset.head()"
      ],
      "execution_count": 2,
      "outputs": [
        {
          "output_type": "execute_result",
          "data": {
            "text/html": [
              "<div>\n",
              "<style scoped>\n",
              "    .dataframe tbody tr th:only-of-type {\n",
              "        vertical-align: middle;\n",
              "    }\n",
              "\n",
              "    .dataframe tbody tr th {\n",
              "        vertical-align: top;\n",
              "    }\n",
              "\n",
              "    .dataframe thead th {\n",
              "        text-align: right;\n",
              "    }\n",
              "</style>\n",
              "<table border=\"1\" class=\"dataframe\">\n",
              "  <thead>\n",
              "    <tr style=\"text-align: right;\">\n",
              "      <th></th>\n",
              "      <th>county</th>\n",
              "      <th>cases</th>\n",
              "      <th>deaths</th>\n",
              "    </tr>\n",
              "  </thead>\n",
              "  <tbody>\n",
              "    <tr>\n",
              "      <th>0</th>\n",
              "      <td>Abbeville</td>\n",
              "      <td>84</td>\n",
              "      <td>0</td>\n",
              "    </tr>\n",
              "    <tr>\n",
              "      <th>1</th>\n",
              "      <td>Acadia</td>\n",
              "      <td>741</td>\n",
              "      <td>21</td>\n",
              "    </tr>\n",
              "    <tr>\n",
              "      <th>2</th>\n",
              "      <td>Accomack</td>\n",
              "      <td>116</td>\n",
              "      <td>0</td>\n",
              "    </tr>\n",
              "    <tr>\n",
              "      <th>3</th>\n",
              "      <td>Ada</td>\n",
              "      <td>4264</td>\n",
              "      <td>41</td>\n",
              "    </tr>\n",
              "    <tr>\n",
              "      <th>4</th>\n",
              "      <td>Adair</td>\n",
              "      <td>325</td>\n",
              "      <td>8</td>\n",
              "    </tr>\n",
              "  </tbody>\n",
              "</table>\n",
              "</div>"
            ],
            "text/plain": [
              "      county  cases  deaths\n",
              "0  Abbeville     84       0\n",
              "1     Acadia    741      21\n",
              "2   Accomack    116       0\n",
              "3        Ada   4264      41\n",
              "4      Adair    325       8"
            ]
          },
          "metadata": {
            "tags": []
          },
          "execution_count": 2
        }
      ]
    },
    {
      "cell_type": "code",
      "metadata": {
        "colab_type": "code",
        "id": "rJTipPtuKqGp",
        "outputId": "4962748b-2a34-4c9c-cec4-ea26b3ec5d08",
        "colab": {
          "base_uri": "https://localhost:8080/",
          "height": 36
        }
      },
      "source": [
        "dataset.shape"
      ],
      "execution_count": 3,
      "outputs": [
        {
          "output_type": "execute_result",
          "data": {
            "text/plain": [
              "(1570, 3)"
            ]
          },
          "metadata": {
            "tags": []
          },
          "execution_count": 3
        }
      ]
    },
    {
      "cell_type": "code",
      "metadata": {
        "colab_type": "code",
        "id": "SWsCdz0SKqGr",
        "colab": {}
      },
      "source": [
        "dataset.sort_values(by=['deaths'], inplace=True)"
      ],
      "execution_count": 0,
      "outputs": []
    },
    {
      "cell_type": "code",
      "metadata": {
        "colab_type": "code",
        "id": "RqmLHZAtKqGt",
        "outputId": "ffd48798-a71a-4532-9f1f-928f94f4a434",
        "colab": {
          "base_uri": "https://localhost:8080/",
          "height": 284
        }
      },
      "source": [
        "cases = dataset['cases'].values\n",
        "deaths = dataset['deaths'].values\n",
        "X = np.array(list(zip(cases, deaths)))\n",
        "plt.scatter(cases, deaths, c='black', s=10)"
      ],
      "execution_count": 5,
      "outputs": [
        {
          "output_type": "execute_result",
          "data": {
            "text/plain": [
              "<matplotlib.collections.PathCollection at 0x7fe0e8318588>"
            ]
          },
          "metadata": {
            "tags": []
          },
          "execution_count": 5
        },
        {
          "output_type": "display_data",
          "data": {
            "image/png": "[encoded data removed]",
            "text/plain": [
              "<Figure size 432x288 with 1 Axes>"
            ]
          },
          "metadata": {
            "tags": [],
            "needs_background": "light"
          }
        }
      ]
    },
    {
      "cell_type": "markdown",
      "metadata": {
        "colab_type": "text",
        "id": "6vV5GQrXKqGv"
      },
      "source": [
        "#### 3. Criando classe do KMeans"
      ]
    },
    {
      "cell_type": "code",
      "metadata": {
        "id": "iU3lzyM5rTB4",
        "colab_type": "code",
        "colab": {}
      },
      "source": [
        "# Calculando distância euclidiana\n",
        "def dist(a, b, ax=1):\n",
        "    return np.linalg.norm(a - b, axis=ax)"
      ],
      "execution_count": 0,
      "outputs": []
    },
    {
      "cell_type": "code",
      "metadata": {
        "colab_type": "code",
        "id": "m2UKis2QKqGw",
        "colab": {}
      },
      "source": [
        "class K_Means:\n",
        "    def __init__(self, k, pontos, parada = 0.00000001, max_iter = 100):\n",
        "        self.k = k\n",
        "        self.parada = parada\n",
        "        self.max_iter = max_iter\n",
        "        self.data = pontos\n",
        "\n",
        "    def fit(self):\n",
        "        # coordenada X centroide\n",
        "        centroids_x = np.random.randint(0, np.median(self.data), size=self.k)\n",
        "        # coordenada Y centroide\n",
        "        centroids_y = np.random.randint(0, np.median(self.data), size=self.k)\n",
        "        self.centroids = np.array(list(zip(centroids_x, centroids_y)), dtype=np.float32)\n",
        "        \n",
        "        # armazenando o valor dos centroides quando ele for atualizado\n",
        "        self.centroids_old = np.zeros(self.centroids.shape)\n",
        "        \n",
        "        # label dos clusters \n",
        "        self.clusters = np.zeros(len(self.data))\n",
        "        # distancia entre centroide novo e centroide antigo\n",
        "        error = dist(self.centroids, self.centroids_old, None)\n",
        "        # Loop de treinamento\n",
        "        for i in range(self.max_iter):\n",
        "            # atribuindo cada valor ao cluster mais próximo\n",
        "            for i in range(len(self.data)):\n",
        "                distances = dist(self.data[i], self.centroids)\n",
        "                self.cluster = np.argmin(distances)\n",
        "                self.clusters[i] = self.cluster\n",
        "            # guardando valores do centroide antigo\n",
        "            self.centroids_old = deepcopy(self.centroids)\n",
        "            # encontrando novo centroide\n",
        "            for i in range(self.k):\n",
        "                self.points = [self.data[j] for j in range(len(self.data)) if self.clusters[j] == i]\n",
        "                if len(self.points) > 0:\n",
        "                    self.centroids[i] = np.mean(self.points, axis=0)\n",
        "            error = dist(self.centroids, self.centroids_old, None)\n",
        "            if error <= self.parada:\n",
        "                break\n",
        "\n",
        "    def plot(self):\n",
        "        colors = int(self.k/6 + 1)*['r', 'g', 'b', 'y', 'c', 'm']\n",
        "        fig, ax = plt.subplots()\n",
        "\n",
        "        for i in range(self.k):\n",
        "            points = np.array([self.data[j] for j in range(len(self.data)) if self.clusters[j] == i])\n",
        "            ax.scatter(points[:, 0], points[:, 1], s=7, c=colors[i])\n",
        "            ax.scatter(self.centroids[:, 0], self.centroids[:, 1], marker='X', s=100, c='black')"
      ],
      "execution_count": 0,
      "outputs": []
    },
    {
      "cell_type": "markdown",
      "metadata": {
        "colab_type": "text",
        "id": "IuD8Geo6KqGz"
      },
      "source": [
        "#### 4. Inicializando a classe com os parametros desejados do exercício e realizando o treinamento"
      ]
    },
    {
      "cell_type": "code",
      "metadata": {
        "colab_type": "code",
        "id": "N7I50joxKqGz",
        "colab": {}
      },
      "source": [
        "kmeans = K_Means(k = 3, pontos = X, parada = 0.0001, max_iter = 100)\n",
        "kmeans.fit()"
      ],
      "execution_count": 0,
      "outputs": []
    },
    {
      "cell_type": "code",
      "metadata": {
        "colab_type": "code",
        "id": "dEQag21zKqG1",
        "outputId": "d694f4c7-a814-439a-96ea-34931a92f51c",
        "colab": {
          "base_uri": "https://localhost:8080/",
          "height": 74
        }
      },
      "source": [
        "kmeans.centroids"
      ],
      "execution_count": 9,
      "outputs": [
        {
          "output_type": "execute_result",
          "data": {
            "text/plain": [
              "array([[1.1869150e+03, 2.8396652e+01],\n",
              "       [8.8945375e+04, 2.1148750e+03],\n",
              "       [8.6882400e+05, 3.1887000e+04]], dtype=float32)"
            ]
          },
          "metadata": {
            "tags": []
          },
          "execution_count": 9
        }
      ]
    },
    {
      "cell_type": "code",
      "metadata": {
        "colab_type": "code",
        "id": "AeCd2hdNKqG4",
        "colab": {}
      },
      "source": [
        "dataset['cluster'] = kmeans.clusters"
      ],
      "execution_count": 0,
      "outputs": []
    },
    {
      "cell_type": "code",
      "metadata": {
        "colab_type": "code",
        "id": "OSwfR63yKqG6",
        "outputId": "d51edf16-314e-4c1c-9724-1adfa202be9e",
        "colab": {
          "base_uri": "https://localhost:8080/",
          "height": 226
        }
      },
      "source": [
        "dataset.info()"
      ],
      "execution_count": 11,
      "outputs": [
        {
          "output_type": "stream",
          "text": [
            "<class 'pandas.core.frame.DataFrame'>\n",
            "Int64Index: 1570 entries, 0 to 995\n",
            "Data columns (total 4 columns):\n",
            " #   Column   Non-Null Count  Dtype  \n",
            "---  ------   --------------  -----  \n",
            " 0   county   1570 non-null   object \n",
            " 1   cases    1570 non-null   int64  \n",
            " 2   deaths   1570 non-null   int64  \n",
            " 3   cluster  1570 non-null   float64\n",
            "dtypes: float64(1), int64(2), object(1)\n",
            "memory usage: 61.3+ KB\n"
          ],
          "name": "stdout"
        }
      ]
    },
    {
      "cell_type": "code",
      "metadata": {
        "colab_type": "code",
        "id": "U7FHfnPjKqG9",
        "outputId": "b4b0892c-137c-4a6e-9ecc-a071e7a15e3d",
        "colab": {
          "base_uri": "https://localhost:8080/",
          "height": 204
        }
      },
      "source": [
        "dataset.head()"
      ],
      "execution_count": 12,
      "outputs": [
        {
          "output_type": "execute_result",
          "data": {
            "text/html": [
              "<div>\n",
              "<style scoped>\n",
              "    .dataframe tbody tr th:only-of-type {\n",
              "        vertical-align: middle;\n",
              "    }\n",
              "\n",
              "    .dataframe tbody tr th {\n",
              "        vertical-align: top;\n",
              "    }\n",
              "\n",
              "    .dataframe thead th {\n",
              "        text-align: right;\n",
              "    }\n",
              "</style>\n",
              "<table border=\"1\" class=\"dataframe\">\n",
              "  <thead>\n",
              "    <tr style=\"text-align: right;\">\n",
              "      <th></th>\n",
              "      <th>county</th>\n",
              "      <th>cases</th>\n",
              "      <th>deaths</th>\n",
              "      <th>cluster</th>\n",
              "    </tr>\n",
              "  </thead>\n",
              "  <tbody>\n",
              "    <tr>\n",
              "      <th>0</th>\n",
              "      <td>Abbeville</td>\n",
              "      <td>84</td>\n",
              "      <td>0</td>\n",
              "      <td>0.0</td>\n",
              "    </tr>\n",
              "    <tr>\n",
              "      <th>865</th>\n",
              "      <td>Manitowoc</td>\n",
              "      <td>17</td>\n",
              "      <td>0</td>\n",
              "      <td>0.0</td>\n",
              "    </tr>\n",
              "    <tr>\n",
              "      <th>866</th>\n",
              "      <td>Marathon</td>\n",
              "      <td>108</td>\n",
              "      <td>0</td>\n",
              "      <td>0.0</td>\n",
              "    </tr>\n",
              "    <tr>\n",
              "      <th>869</th>\n",
              "      <td>Maries</td>\n",
              "      <td>20</td>\n",
              "      <td>0</td>\n",
              "      <td>0.0</td>\n",
              "    </tr>\n",
              "    <tr>\n",
              "      <th>871</th>\n",
              "      <td>Marinette</td>\n",
              "      <td>27</td>\n",
              "      <td>0</td>\n",
              "      <td>0.0</td>\n",
              "    </tr>\n",
              "  </tbody>\n",
              "</table>\n",
              "</div>"
            ],
            "text/plain": [
              "        county  cases  deaths  cluster\n",
              "0    Abbeville     84       0      0.0\n",
              "865  Manitowoc     17       0      0.0\n",
              "866   Marathon    108       0      0.0\n",
              "869     Maries     20       0      0.0\n",
              "871  Marinette     27       0      0.0"
            ]
          },
          "metadata": {
            "tags": []
          },
          "execution_count": 12
        }
      ]
    },
    {
      "cell_type": "markdown",
      "metadata": {
        "colab_type": "text",
        "id": "XC6PmG7UKqG_"
      },
      "source": [
        "#### 5. Visualizando graficamente"
      ]
    },
    {
      "cell_type": "code",
      "metadata": {
        "colab_type": "code",
        "id": "d2Dn9LEMKqG_",
        "outputId": "0a3e2ba8-0cd5-4731-82fa-54773fe9c7ff",
        "colab": {
          "base_uri": "https://localhost:8080/",
          "height": 265
        }
      },
      "source": [
        "kmeans.plot()"
      ],
      "execution_count": 13,
      "outputs": [
        {
          "output_type": "display_data",
          "data": {
            "image/png": "[encoded data removed]",
            "text/plain": [
              "<Figure size 432x288 with 1 Axes>"
            ]
          },
          "metadata": {
            "tags": [],
            "needs_background": "light"
          }
        }
      ]
    },
    {
      "cell_type": "code",
      "metadata": {
        "colab_type": "code",
        "id": "86-wn4hbKqHB",
        "outputId": "2519a47e-e6d6-42ce-bb24-e7032c14a4cd",
        "colab": {
          "base_uri": "https://localhost:8080/",
          "height": 74
        }
      },
      "source": [
        "kmeans.centroids"
      ],
      "execution_count": 14,
      "outputs": [
        {
          "output_type": "execute_result",
          "data": {
            "text/plain": [
              "array([[1.1869150e+03, 2.8396652e+01],\n",
              "       [8.8945375e+04, 2.1148750e+03],\n",
              "       [8.6882400e+05, 3.1887000e+04]], dtype=float32)"
            ]
          },
          "metadata": {
            "tags": []
          },
          "execution_count": 14
        }
      ]
    },
    {
      "cell_type": "markdown",
      "metadata": {
        "colab_type": "text",
        "id": "SkulBiseKqHD"
      },
      "source": [
        "**Resposta**: <br>\n",
        "Os clusters representam os estados com base na quantidade de casos e mortes do COVID-19.\n",
        "- O primeiro cluster (verde), representa os estados que tiveram baixa quantidade de casos e mortes devido ao COVID-19\n",
        "- O segundo cluster(azul), representa os estados que tiveram quantidade moderada/alta de casos e mortes devido ao COVID-19.\n",
        "- O terceiro cluster (vermelho), representa o estado de New York (possuem uma quantidade muito elevada de casos de COVID-19\n"
      ]
    },
    {
      "cell_type": "markdown",
      "metadata": {
        "colab_type": "text",
        "id": "c88Ea7w3KqHD"
      },
      "source": [
        "#### 6. Para cada cluster, também devem ser exibidas as distâncias médias entre os pontos e seu respectivo centróide final"
      ]
    },
    {
      "cell_type": "code",
      "metadata": {
        "colab_type": "code",
        "id": "6jB5VyWJKqHD",
        "colab": {}
      },
      "source": [
        "def print_distancias(data, centroids):\n",
        "    dataset = data.copy()\n",
        "    dataset['centroide_x'] = np.nan\n",
        "    dataset['centroide_y'] = np.nan\n",
        "\n",
        "    for i in range(len(centroids)):\n",
        "        dataset.loc[dataset['cluster'] == i, 'centroide_x'] = centroids[i][0]\n",
        "        dataset.loc[dataset['cluster'] == i, 'centroide_y'] = centroids[i][1]\n",
        "\n",
        "    dataset['distancia'] = dist(\n",
        "        np.array(list(zip(dataset['cases'], dataset['deaths']))),\n",
        "        np.array(list(zip(dataset['centroide_x'], dataset['centroide_y'])))\n",
        "    )\n",
        "\n",
        "    for i in range(len(centroids)):  \n",
        "        print(\"Distância média entre os pontos do centroide {}: {}\".format(i, dataset[dataset['cluster'] == i]['distancia'].mean()))"
      ],
      "execution_count": 0,
      "outputs": []
    },
    {
      "cell_type": "code",
      "metadata": {
        "colab_type": "code",
        "id": "TwlvlqTyKqHF",
        "colab": {
          "base_uri": "https://localhost:8080/",
          "height": 74
        },
        "outputId": "3370abe6-9d96-423b-b186-abe570ae4156"
      },
      "source": [
        "print_distancias(dataset, kmeans.centroids)"
      ],
      "execution_count": 16,
      "outputs": [
        {
          "output_type": "stream",
          "text": [
            "Distância média entre os pontos do centroide 0: 1639.2650000822305\n",
            "Distância média entre os pontos do centroide 1: 37639.72339191836\n",
            "Distância média entre os pontos do centroide 2: 0.0\n"
          ],
          "name": "stdout"
        }
      ]
    },
    {
      "cell_type": "markdown",
      "metadata": {
        "colab_type": "text",
        "id": "uoOIi6i0KqHL"
      },
      "source": [
        "### **Obs**: Retirando o estado de New York, a visualização do cluster fica muito melhor."
      ]
    },
    {
      "cell_type": "markdown",
      "metadata": {
        "colab_type": "text",
        "id": "XQo32VK5KqHM"
      },
      "source": [
        "#### 7. Retirando o estado de New York\n",
        "- Retirar o estado de New York, utilizar o algoritmo Kmeans e visualizar os cluster."
      ]
    },
    {
      "cell_type": "code",
      "metadata": {
        "colab_type": "code",
        "id": "fjS6Dok2KqHM",
        "colab": {}
      },
      "source": [
        "dataset=dataset.iloc[:-1,:]"
      ],
      "execution_count": 0,
      "outputs": []
    },
    {
      "cell_type": "code",
      "metadata": {
        "colab_type": "code",
        "id": "9mCfHIhwKqHO",
        "outputId": "a726dc9a-f262-4311-db16-086a01b01b8b",
        "colab": {
          "base_uri": "https://localhost:8080/",
          "height": 284
        }
      },
      "source": [
        "cases = dataset['cases'].values\n",
        "deaths = dataset['deaths'].values\n",
        "X = np.array(list(zip(cases, deaths)))\n",
        "plt.scatter(cases, deaths, c='black', s=10)"
      ],
      "execution_count": 18,
      "outputs": [
        {
          "output_type": "execute_result",
          "data": {
            "text/plain": [
              "<matplotlib.collections.PathCollection at 0x7fe0e5592ac8>"
            ]
          },
          "metadata": {
            "tags": []
          },
          "execution_count": 18
        },
        {
          "output_type": "display_data",
          "data": {
            "image/png": "[encoded data removed]",
            "text/plain": [
              "<Figure size 432x288 with 1 Axes>"
            ]
          },
          "metadata": {
            "tags": [],
            "needs_background": "light"
          }
        }
      ]
    },
    {
      "cell_type": "code",
      "metadata": {
        "colab_type": "code",
        "id": "zwazesNYKqHQ",
        "colab": {}
      },
      "source": [
        "kmeans = K_Means(k = 3, pontos = X, parada = 0.0001, max_iter = 100)\n",
        "kmeans.fit()"
      ],
      "execution_count": 0,
      "outputs": []
    },
    {
      "cell_type": "code",
      "metadata": {
        "colab_type": "code",
        "id": "BVV04LapKqHR",
        "outputId": "5470d307-1cf9-406f-a351-f027e975ca37",
        "colab": {
          "base_uri": "https://localhost:8080/",
          "height": 265
        }
      },
      "source": [
        "kmeans.plot()"
      ],
      "execution_count": 20,
      "outputs": [
        {
          "output_type": "display_data",
          "data": {
            "image/png": "[encoded data removed]",
            "text/plain": [
              "<Figure size 432x288 with 1 Axes>"
            ]
          },
          "metadata": {
            "tags": [],
            "needs_background": "light"
          }
        }
      ]
    },
    {
      "cell_type": "code",
      "metadata": {
        "colab_type": "code",
        "id": "ZkSnG6rvKqHT",
        "outputId": "7d991218-5aab-4d35-c585-a88d3e189c50",
        "colab": {
          "base_uri": "https://localhost:8080/",
          "height": 74
        }
      },
      "source": [
        "kmeans.centroids"
      ],
      "execution_count": 21,
      "outputs": [
        {
          "output_type": "execute_result",
          "data": {
            "text/plain": [
              "array([[5.7526105e+04, 1.6201578e+03],\n",
              "       [1.8495167e+05, 2.7943333e+03],\n",
              "       [1.0462534e+03, 2.5062702e+01]], dtype=float32)"
            ]
          },
          "metadata": {
            "tags": []
          },
          "execution_count": 21
        }
      ]
    },
    {
      "cell_type": "code",
      "metadata": {
        "colab_type": "code",
        "id": "I2akUb9oKqHV",
        "colab": {}
      },
      "source": [
        "dataset['cluster'] = kmeans.clusters"
      ],
      "execution_count": 0,
      "outputs": []
    },
    {
      "cell_type": "code",
      "metadata": {
        "colab_type": "code",
        "id": "oqhc-EgTKqHX",
        "colab": {
          "base_uri": "https://localhost:8080/",
          "height": 74
        },
        "outputId": "5331d055-1fcc-437a-9bfd-0ec7b042f251"
      },
      "source": [
        "print_distancias(dataset, kmeans.centroids)"
      ],
      "execution_count": 23,
      "outputs": [
        {
          "output_type": "stream",
          "text": [
            "Distância média entre os pontos do centroide 0: 15765.0704267467\n",
            "Distância média entre os pontos do centroide 1: 4243.744484675485\n",
            "Distância média entre os pontos do centroide 2: 1414.636105857353\n"
          ],
          "name": "stdout"
        }
      ]
    },
    {
      "cell_type": "markdown",
      "metadata": {
        "id": "eyu4OGf-s45V",
        "colab_type": "text"
      },
      "source": [
        "# Desafios"
      ]
    },
    {
      "cell_type": "markdown",
      "metadata": {
        "id": "9AvhMVjXs7Hr",
        "colab_type": "text"
      },
      "source": [
        "#### Compare os resultados obtidos pelo seu algoritmo com os da função do K-Means do sklearn"
      ]
    },
    {
      "cell_type": "code",
      "metadata": {
        "colab_type": "code",
        "id": "k_SEGmCUQH7C",
        "colab": {}
      },
      "source": [
        "from sklearn.cluster import KMeans\n",
        "def fit_sKmeans(pontos = X, parada = 0.0001, max_iteracoes = 100,k=3):\n",
        "  sKmeans = KMeans(n_clusters=k, tol = parada, max_iter = max_iteracoes)\n",
        "  sKmeans.fit(pontos)\n",
        "  y_kmeans = sKmeans.predict(pontos)\n",
        "# desenhando   \n",
        "  plt.scatter(pontos[:, 0], pontos[:, 1], c=y_kmeans, s=7)\n",
        "  centers = sKmeans.cluster_centers_\n",
        "  plt.scatter(centers[:, 0], centers[:, 1], c='black', s=200, alpha=0.5)\n",
        "  plt.title('K-means com sklearn')\n",
        "  plt.xlabel('Cases')\n",
        "  plt.ylabel('Deaths')\n",
        "  print ('Centroids, com sklearn:',centers) \n"
      ],
      "execution_count": 0,
      "outputs": []
    },
    {
      "cell_type": "code",
      "metadata": {
        "colab_type": "code",
        "id": "HNncZB_Qd4wd",
        "outputId": "2be40193-7bad-4c05-856f-18976c2d2a0d",
        "colab": {
          "base_uri": "https://localhost:8080/",
          "height": 657
        }
      },
      "source": [
        "#executando - com sklearn\n",
        "fit_sKmeans()\n",
        "# k_means sem o sklearn\n",
        "kmeans.plot()\n",
        "print ('Centroides com k-means:', kmeans.centroids) "
      ],
      "execution_count": 25,
      "outputs": [
        {
          "output_type": "stream",
          "text": [
            "Centroids, com sklearn: [[1.04625339e+03 2.50627020e+01]\n",
            " [1.84951667e+05 2.79433333e+03]\n",
            " [5.75261053e+04 1.62015789e+03]]\n",
            "Centroides com k-means: [[5.7526105e+04 1.6201578e+03]\n",
            " [1.8495167e+05 2.7943333e+03]\n",
            " [1.0462534e+03 2.5062702e+01]]\n"
          ],
          "name": "stdout"
        },
        {
          "output_type": "display_data",
          "data": {
            "image/png": "[encoded data removed]",
            "text/plain": [
              "<Figure size 432x288 with 1 Axes>"
            ]
          },
          "metadata": {
            "tags": [],
            "needs_background": "light"
          }
        },
        {
          "output_type": "display_data",
          "data": {
            "image/png": "[encoded data removed]",
            "text/plain": [
              "<Figure size 432x288 with 1 Axes>"
            ]
          },
          "metadata": {
            "tags": [],
            "needs_background": "light"
          }
        }
      ]
    },
    {
      "cell_type": "markdown",
      "metadata": {
        "id": "iDp4sMH3tTOa",
        "colab_type": "text"
      },
      "source": [
        "#### Plotar o gráfico que permite visualizar o elbow point, variando o valor de K e indicar qual o melhor valor"
      ]
    },
    {
      "cell_type": "code",
      "metadata": {
        "id": "OOIYzn5-rDv3",
        "colab_type": "code",
        "colab": {}
      },
      "source": [
        "def elbow_plot(data, k_max):\n",
        "    dataset = data.copy()\n",
        "    dists = []\n",
        "\n",
        "    for i in range(k_max - 2):\n",
        "        kmeans = K_Means(k = i+2, pontos = X, parada = 0.0001, max_iter = 10)\n",
        "        kmeans.fit()\n",
        "\n",
        "        dataset['cluster'] = kmeans.clusters\n",
        "        dataset['centroide_x'] = np.nan\n",
        "        dataset['centroide_y'] = np.nan\n",
        "\n",
        "        for i in range(kmeans.k):\n",
        "            dataset.loc[dataset['cluster'] == i, 'centroide_x'] = kmeans.centroids[i][0]\n",
        "            dataset.loc[dataset['cluster'] == i, 'centroide_y'] = kmeans.centroids[i][1]\n",
        "\n",
        "        dataset['distancia'] = dist(\n",
        "            np.array(list(zip(dataset['cases'], dataset['deaths']))),\n",
        "            np.array(list(zip(dataset['centroide_x'], dataset['centroide_y'])))\n",
        "        )\n",
        "        dists.append([i+2, dataset['distancia'].mean()])\n",
        "\n",
        "    x = []\n",
        "    y = []\n",
        "\n",
        "    fig, ax = plt.subplots()\n",
        "    for i in range(len(dists)):\n",
        "        x.append(dists[i][0])\n",
        "        y.append(dists[i][1])\n",
        "\n",
        "    ax.set_xlabel('Quantidade de Clusters')\n",
        "    ax.set_ylabel('Distância Média')\n",
        "\n",
        "    ax.plot(x, y, c='b', marker='x')"
      ],
      "execution_count": 0,
      "outputs": []
    },
    {
      "cell_type": "code",
      "metadata": {
        "id": "H3VScWsvtXV-",
        "colab_type": "code",
        "colab": {
          "base_uri": "https://localhost:8080/",
          "height": 279
        },
        "outputId": "fa797b39-2b79-4dfb-9102-661b6cfcd185"
      },
      "source": [
        "elbow_plot(dataset, 10)"
      ],
      "execution_count": 27,
      "outputs": [
        {
          "output_type": "display_data",
          "data": {
            "image/png": "[encoded data removed]",
            "text/plain": [
              "<Figure size 432x288 with 1 Axes>"
            ]
          },
          "metadata": {
            "tags": [],
            "needs_background": "light"
          }
        }
      ]
    }
  ]
}